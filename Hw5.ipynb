{
 "cells": [
  {
   "cell_type": "code",
   "execution_count": 4,
   "metadata": {},
   "outputs": [],
   "source": [
    "import os\n",
    "import pandas as pd\n",
    "from sklearn.model_selection import train_test_split\n",
    "from sklearn.preprocessing import StandardScaler\n",
    "from sklearn.svm import SVC\n",
    "from sklearn.ensemble import RandomForestClassifier\n",
    "from sklearn.metrics import classification_report"
   ]
  },
  {
   "cell_type": "markdown",
   "metadata": {},
   "source": [
    "Завантаження даних з CSV файлів"
   ]
  },
  {
   "cell_type": "code",
   "execution_count": 5,
   "metadata": {},
   "outputs": [],
   "source": [
    "data_path = \"data\"\n",
    "activities = [\"idle\", \"running\", \"stairs\", \"walking\"]\n",
    "df_list = []\n",
    "\n",
    "for activity in activities:\n",
    "    activity_path = os.path.join(data_path, activity)\n",
    "    files = [f for f in os.listdir(activity_path) if f.endswith(\".csv\")]\n",
    "\n",
    "    for file in files:\n",
    "        file_path = os.path.join(activity_path, file)\n",
    "        df = pd.read_csv(file_path)\n",
    "        df[\"activity\"] = activity\n",
    "        df_list.append(df)"
   ]
  },
  {
   "cell_type": "markdown",
   "metadata": {},
   "source": [
    "Об'єднання всіх даних в один DataFrame та розрахунок часових ознак (mean, std, min, max) для кожного запису"
   ]
  },
  {
   "cell_type": "code",
   "execution_count": 6,
   "metadata": {},
   "outputs": [],
   "source": [
    "full_df = pd.concat(df_list, ignore_index=True)\n",
    "\n",
    "numeric_cols = full_df.select_dtypes(include=['float64']).columns\n",
    "\n",
    "full_df[\"mean\"] = full_df[numeric_cols].mean(axis=1)\n",
    "full_df[\"std\"] = full_df[numeric_cols].std(axis=1)\n",
    "full_df[\"min\"] = full_df[numeric_cols].min(axis=1)\n",
    "full_df[\"max\"] = full_df[numeric_cols].max(axis=1)"
   ]
  },
  {
   "cell_type": "markdown",
   "metadata": {},
   "source": [
    "Розділення на навчальний та тестовий набори"
   ]
  },
  {
   "cell_type": "code",
   "execution_count": 7,
   "metadata": {},
   "outputs": [],
   "source": [
    "X = full_df.drop([\"activity\"], axis=1)\n",
    "y = full_df[\"activity\"]\n",
    "X_train, X_test, y_train, y_test = train_test_split(X, y, test_size=0.2, random_state=42)"
   ]
  },
  {
   "cell_type": "markdown",
   "metadata": {},
   "source": [
    "Видалення стовпців 'activity' перед розрахунком часових ознак"
   ]
  },
  {
   "cell_type": "code",
   "execution_count": 8,
   "metadata": {},
   "outputs": [],
   "source": [
    "numeric_cols = X.select_dtypes(include=['float64']).columns\n",
    "time_domain_features = [\"mean\", \"std\", \"min\", \"max\"]\n",
    "\n",
    "for feature in time_domain_features:\n",
    "    X[feature] = X[numeric_cols].apply(getattr, args=(feature,), axis=1)"
   ]
  },
  {
   "cell_type": "markdown",
   "metadata": {},
   "source": [
    "Скалювання ознак"
   ]
  },
  {
   "cell_type": "code",
   "execution_count": 9,
   "metadata": {},
   "outputs": [],
   "source": [
    "scaler = StandardScaler()\n",
    "X_train_scaled = scaler.fit_transform(X_train)  # Без виключення стовпців 'activity'\n",
    "X_test_scaled = scaler.transform(X_test)"
   ]
  },
  {
   "cell_type": "markdown",
   "metadata": {},
   "source": [
    "Модель SVM"
   ]
  },
  {
   "cell_type": "code",
   "execution_count": 10,
   "metadata": {},
   "outputs": [],
   "source": [
    "svm_model = SVC(kernel='linear')\n",
    "svm_model.fit(X_train_scaled, y_train)\n",
    "svm_predictions = svm_model.predict(X_test_scaled)"
   ]
  },
  {
   "cell_type": "markdown",
   "metadata": {},
   "source": [
    "Модель випадкового лісу"
   ]
  },
  {
   "cell_type": "code",
   "execution_count": 11,
   "metadata": {},
   "outputs": [],
   "source": [
    "rf_model = RandomForestClassifier(n_estimators=100, random_state=42)\n",
    "rf_model.fit(X_train_scaled, y_train)\n",
    "rf_predictions = rf_model.predict(X_test_scaled)"
   ]
  },
  {
   "cell_type": "markdown",
   "metadata": {},
   "source": [
    "Оцінка моделей"
   ]
  },
  {
   "cell_type": "code",
   "execution_count": 12,
   "metadata": {},
   "outputs": [],
   "source": [
    "svm_report = classification_report(y_test, svm_predictions, zero_division=1)\n",
    "rf_report = classification_report(y_test, rf_predictions, zero_division=1)"
   ]
  },
  {
   "cell_type": "markdown",
   "metadata": {},
   "source": [
    "Вивід результатів"
   ]
  },
  {
   "cell_type": "code",
   "execution_count": 13,
   "metadata": {},
   "outputs": [
    {
     "name": "stdout",
     "output_type": "stream",
     "text": [
      "SVM Classification Report:\n",
      "              precision    recall  f1-score   support\n",
      "\n",
      "        idle       0.87      0.98      0.92      6203\n",
      "     running       0.92      0.87      0.90     20485\n",
      "      stairs       1.00      0.00      0.00      1022\n",
      "     walking       0.78      0.88      0.83     11062\n",
      "\n",
      "    accuracy                           0.87     38772\n",
      "   macro avg       0.89      0.68      0.66     38772\n",
      "weighted avg       0.88      0.87      0.86     38772\n",
      "\n",
      "\n",
      "Random Forest Classification Report:\n",
      "              precision    recall  f1-score   support\n",
      "\n",
      "        idle       1.00      1.00      1.00      6203\n",
      "     running       1.00      1.00      1.00     20485\n",
      "      stairs       1.00      0.99      0.99      1022\n",
      "     walking       1.00      1.00      1.00     11062\n",
      "\n",
      "    accuracy                           1.00     38772\n",
      "   macro avg       1.00      1.00      1.00     38772\n",
      "weighted avg       1.00      1.00      1.00     38772\n",
      "\n"
     ]
    }
   ],
   "source": [
    "print(\"SVM Classification Report:\")\n",
    "print(svm_report)\n",
    "\n",
    "print(\"\\nRandom Forest Classification Report:\")\n",
    "print(rf_report)"
   ]
  }
 ],
 "metadata": {
  "kernelspec": {
   "display_name": "Python 3",
   "language": "python",
   "name": "python3"
  },
  "language_info": {
   "codemirror_mode": {
    "name": "ipython",
    "version": 3
   },
   "file_extension": ".py",
   "mimetype": "text/x-python",
   "name": "python",
   "nbconvert_exporter": "python",
   "pygments_lexer": "ipython3",
   "version": "3.11.4"
  }
 },
 "nbformat": 4,
 "nbformat_minor": 2
}
